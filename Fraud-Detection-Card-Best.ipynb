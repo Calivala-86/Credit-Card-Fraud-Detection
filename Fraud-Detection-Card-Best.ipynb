{
 "cells": [
  {
   "cell_type": "markdown",
   "id": "22f55a04",
   "metadata": {},
   "source": [
    "# Credit Card Fraud Detection"
   ]
  },
  {
   "cell_type": "markdown",
   "id": "0762044b",
   "metadata": {},
   "source": [
    "This is a simple **Credit Card Fraud Detection Program** in Python using Machine Learning by implementing: \n",
    "    \n",
    "**Logistic Regression**\n",
    "\n",
    "**Random Forest Classifier**\n",
    "\n",
    "**Decision Tree Classifier**\n"
   ]
  },
  {
   "cell_type": "markdown",
   "id": "706e1ef8",
   "metadata": {},
   "source": [
    "## Instal Dependencies"
   ]
  },
  {
   "cell_type": "code",
   "execution_count": 1,
   "id": "51d51d93",
   "metadata": {},
   "outputs": [],
   "source": [
    "# Install libs\n",
    "import numpy as np\n",
    "import pandas as pd \n",
    "\n",
    "import matplotlib.pyplot as plt\n",
    "import seaborn as sns\n",
    "%matplotlib inline\n",
    "\n",
    "from sklearn.preprocessing import RobustScaler\n",
    "from sklearn.model_selection import train_test_split\n",
    "from sklearn.preprocessing import StandardScaler\n",
    "from sklearn.linear_model import LogisticRegression\n",
    "from sklearn.metrics import confusion_matrix, accuracy_score, precision_score, recall_score, f1_score\n",
    "from sklearn.metrics import roc_auc_score\n",
    "from sklearn.metrics import precision_recall_curve\n",
    "from sklearn.metrics import plot_confusion_matrix\n",
    "from sklearn.metrics import classification_report\n",
    "from sklearn.ensemble import RandomForestClassifier\n",
    "from sklearn.tree import DecisionTreeClassifier\n",
    "from sklearn import tree\n",
    "\n",
    "\n",
    "# ignore warnings\n",
    "import warnings\n",
    "warnings.filterwarnings('ignore')"
   ]
  },
  {
   "cell_type": "markdown",
   "id": "6bf17c34",
   "metadata": {},
   "source": [
    "## 1. Intro"
   ]
  },
  {
   "cell_type": "code",
   "execution_count": 2,
   "id": "ccc95bd3",
   "metadata": {},
   "outputs": [],
   "source": [
    "# importing application_data.csv \n",
    "# While reading the file you may have to change the path on local system\n",
    "\n",
    "df = pd.read_csv('creditcard.csv')"
   ]
  },
  {
   "cell_type": "code",
   "execution_count": 3,
   "id": "0100b49a",
   "metadata": {
    "scrolled": true
   },
   "outputs": [
    {
     "data": {
      "text/html": [
       "<div>\n",
       "<style scoped>\n",
       "    .dataframe tbody tr th:only-of-type {\n",
       "        vertical-align: middle;\n",
       "    }\n",
       "\n",
       "    .dataframe tbody tr th {\n",
       "        vertical-align: top;\n",
       "    }\n",
       "\n",
       "    .dataframe thead th {\n",
       "        text-align: right;\n",
       "    }\n",
       "</style>\n",
       "<table border=\"1\" class=\"dataframe\">\n",
       "  <thead>\n",
       "    <tr style=\"text-align: right;\">\n",
       "      <th></th>\n",
       "      <th>Time</th>\n",
       "      <th>V1</th>\n",
       "      <th>V2</th>\n",
       "      <th>V3</th>\n",
       "      <th>V4</th>\n",
       "      <th>V5</th>\n",
       "      <th>V6</th>\n",
       "      <th>V7</th>\n",
       "      <th>V8</th>\n",
       "      <th>V9</th>\n",
       "      <th>...</th>\n",
       "      <th>V21</th>\n",
       "      <th>V22</th>\n",
       "      <th>V23</th>\n",
       "      <th>V24</th>\n",
       "      <th>V25</th>\n",
       "      <th>V26</th>\n",
       "      <th>V27</th>\n",
       "      <th>V28</th>\n",
       "      <th>Amount</th>\n",
       "      <th>Class</th>\n",
       "    </tr>\n",
       "  </thead>\n",
       "  <tbody>\n",
       "    <tr>\n",
       "      <th>0</th>\n",
       "      <td>0.0</td>\n",
       "      <td>-1.359807</td>\n",
       "      <td>-0.072781</td>\n",
       "      <td>2.536347</td>\n",
       "      <td>1.378155</td>\n",
       "      <td>-0.338321</td>\n",
       "      <td>0.462388</td>\n",
       "      <td>0.239599</td>\n",
       "      <td>0.098698</td>\n",
       "      <td>0.363787</td>\n",
       "      <td>...</td>\n",
       "      <td>-0.018307</td>\n",
       "      <td>0.277838</td>\n",
       "      <td>-0.110474</td>\n",
       "      <td>0.066928</td>\n",
       "      <td>0.128539</td>\n",
       "      <td>-0.189115</td>\n",
       "      <td>0.133558</td>\n",
       "      <td>-0.021053</td>\n",
       "      <td>149.62</td>\n",
       "      <td>0</td>\n",
       "    </tr>\n",
       "    <tr>\n",
       "      <th>1</th>\n",
       "      <td>0.0</td>\n",
       "      <td>1.191857</td>\n",
       "      <td>0.266151</td>\n",
       "      <td>0.166480</td>\n",
       "      <td>0.448154</td>\n",
       "      <td>0.060018</td>\n",
       "      <td>-0.082361</td>\n",
       "      <td>-0.078803</td>\n",
       "      <td>0.085102</td>\n",
       "      <td>-0.255425</td>\n",
       "      <td>...</td>\n",
       "      <td>-0.225775</td>\n",
       "      <td>-0.638672</td>\n",
       "      <td>0.101288</td>\n",
       "      <td>-0.339846</td>\n",
       "      <td>0.167170</td>\n",
       "      <td>0.125895</td>\n",
       "      <td>-0.008983</td>\n",
       "      <td>0.014724</td>\n",
       "      <td>2.69</td>\n",
       "      <td>0</td>\n",
       "    </tr>\n",
       "    <tr>\n",
       "      <th>2</th>\n",
       "      <td>1.0</td>\n",
       "      <td>-1.358354</td>\n",
       "      <td>-1.340163</td>\n",
       "      <td>1.773209</td>\n",
       "      <td>0.379780</td>\n",
       "      <td>-0.503198</td>\n",
       "      <td>1.800499</td>\n",
       "      <td>0.791461</td>\n",
       "      <td>0.247676</td>\n",
       "      <td>-1.514654</td>\n",
       "      <td>...</td>\n",
       "      <td>0.247998</td>\n",
       "      <td>0.771679</td>\n",
       "      <td>0.909412</td>\n",
       "      <td>-0.689281</td>\n",
       "      <td>-0.327642</td>\n",
       "      <td>-0.139097</td>\n",
       "      <td>-0.055353</td>\n",
       "      <td>-0.059752</td>\n",
       "      <td>378.66</td>\n",
       "      <td>0</td>\n",
       "    </tr>\n",
       "    <tr>\n",
       "      <th>3</th>\n",
       "      <td>1.0</td>\n",
       "      <td>-0.966272</td>\n",
       "      <td>-0.185226</td>\n",
       "      <td>1.792993</td>\n",
       "      <td>-0.863291</td>\n",
       "      <td>-0.010309</td>\n",
       "      <td>1.247203</td>\n",
       "      <td>0.237609</td>\n",
       "      <td>0.377436</td>\n",
       "      <td>-1.387024</td>\n",
       "      <td>...</td>\n",
       "      <td>-0.108300</td>\n",
       "      <td>0.005274</td>\n",
       "      <td>-0.190321</td>\n",
       "      <td>-1.175575</td>\n",
       "      <td>0.647376</td>\n",
       "      <td>-0.221929</td>\n",
       "      <td>0.062723</td>\n",
       "      <td>0.061458</td>\n",
       "      <td>123.50</td>\n",
       "      <td>0</td>\n",
       "    </tr>\n",
       "    <tr>\n",
       "      <th>4</th>\n",
       "      <td>2.0</td>\n",
       "      <td>-1.158233</td>\n",
       "      <td>0.877737</td>\n",
       "      <td>1.548718</td>\n",
       "      <td>0.403034</td>\n",
       "      <td>-0.407193</td>\n",
       "      <td>0.095921</td>\n",
       "      <td>0.592941</td>\n",
       "      <td>-0.270533</td>\n",
       "      <td>0.817739</td>\n",
       "      <td>...</td>\n",
       "      <td>-0.009431</td>\n",
       "      <td>0.798278</td>\n",
       "      <td>-0.137458</td>\n",
       "      <td>0.141267</td>\n",
       "      <td>-0.206010</td>\n",
       "      <td>0.502292</td>\n",
       "      <td>0.219422</td>\n",
       "      <td>0.215153</td>\n",
       "      <td>69.99</td>\n",
       "      <td>0</td>\n",
       "    </tr>\n",
       "  </tbody>\n",
       "</table>\n",
       "<p>5 rows × 31 columns</p>\n",
       "</div>"
      ],
      "text/plain": [
       "   Time        V1        V2        V3        V4        V5        V6        V7  \\\n",
       "0   0.0 -1.359807 -0.072781  2.536347  1.378155 -0.338321  0.462388  0.239599   \n",
       "1   0.0  1.191857  0.266151  0.166480  0.448154  0.060018 -0.082361 -0.078803   \n",
       "2   1.0 -1.358354 -1.340163  1.773209  0.379780 -0.503198  1.800499  0.791461   \n",
       "3   1.0 -0.966272 -0.185226  1.792993 -0.863291 -0.010309  1.247203  0.237609   \n",
       "4   2.0 -1.158233  0.877737  1.548718  0.403034 -0.407193  0.095921  0.592941   \n",
       "\n",
       "         V8        V9  ...       V21       V22       V23       V24       V25  \\\n",
       "0  0.098698  0.363787  ... -0.018307  0.277838 -0.110474  0.066928  0.128539   \n",
       "1  0.085102 -0.255425  ... -0.225775 -0.638672  0.101288 -0.339846  0.167170   \n",
       "2  0.247676 -1.514654  ...  0.247998  0.771679  0.909412 -0.689281 -0.327642   \n",
       "3  0.377436 -1.387024  ... -0.108300  0.005274 -0.190321 -1.175575  0.647376   \n",
       "4 -0.270533  0.817739  ... -0.009431  0.798278 -0.137458  0.141267 -0.206010   \n",
       "\n",
       "        V26       V27       V28  Amount  Class  \n",
       "0 -0.189115  0.133558 -0.021053  149.62      0  \n",
       "1  0.125895 -0.008983  0.014724    2.69      0  \n",
       "2 -0.139097 -0.055353 -0.059752  378.66      0  \n",
       "3 -0.221929  0.062723  0.061458  123.50      0  \n",
       "4  0.502292  0.219422  0.215153   69.99      0  \n",
       "\n",
       "[5 rows x 31 columns]"
      ]
     },
     "execution_count": 3,
     "metadata": {},
     "output_type": "execute_result"
    }
   ],
   "source": [
    "# display the first 5 rows of the Dataset\n",
    "\n",
    "df.head()"
   ]
  },
  {
   "cell_type": "markdown",
   "id": "10ddeb85",
   "metadata": {},
   "source": [
    "## 2. Dataset analysis and Pre-processing"
   ]
  },
  {
   "cell_type": "code",
   "execution_count": 4,
   "id": "7085a9ca",
   "metadata": {},
   "outputs": [
    {
     "name": "stdout",
     "output_type": "stream",
     "text": [
      "<class 'pandas.core.frame.DataFrame'>\n",
      "RangeIndex: 284807 entries, 0 to 284806\n",
      "Data columns (total 31 columns):\n",
      " #   Column  Non-Null Count   Dtype  \n",
      "---  ------  --------------   -----  \n",
      " 0   Time    284807 non-null  float64\n",
      " 1   V1      284807 non-null  float64\n",
      " 2   V2      284807 non-null  float64\n",
      " 3   V3      284807 non-null  float64\n",
      " 4   V4      284807 non-null  float64\n",
      " 5   V5      284807 non-null  float64\n",
      " 6   V6      284807 non-null  float64\n",
      " 7   V7      284807 non-null  float64\n",
      " 8   V8      284807 non-null  float64\n",
      " 9   V9      284807 non-null  float64\n",
      " 10  V10     284807 non-null  float64\n",
      " 11  V11     284807 non-null  float64\n",
      " 12  V12     284807 non-null  float64\n",
      " 13  V13     284807 non-null  float64\n",
      " 14  V14     284807 non-null  float64\n",
      " 15  V15     284807 non-null  float64\n",
      " 16  V16     284807 non-null  float64\n",
      " 17  V17     284807 non-null  float64\n",
      " 18  V18     284807 non-null  float64\n",
      " 19  V19     284807 non-null  float64\n",
      " 20  V20     284807 non-null  float64\n",
      " 21  V21     284807 non-null  float64\n",
      " 22  V22     284807 non-null  float64\n",
      " 23  V23     284807 non-null  float64\n",
      " 24  V24     284807 non-null  float64\n",
      " 25  V25     284807 non-null  float64\n",
      " 26  V26     284807 non-null  float64\n",
      " 27  V27     284807 non-null  float64\n",
      " 28  V28     284807 non-null  float64\n",
      " 29  Amount  284807 non-null  float64\n",
      " 30  Class   284807 non-null  int64  \n",
      "dtypes: float64(30), int64(1)\n",
      "memory usage: 67.4 MB\n"
     ]
    }
   ],
   "source": [
    "# get dataset information\n",
    "df.info()"
   ]
  },
  {
   "cell_type": "code",
   "execution_count": 5,
   "id": "e19c3ff6",
   "metadata": {},
   "outputs": [
    {
     "data": {
      "text/html": [
       "<div>\n",
       "<style scoped>\n",
       "    .dataframe tbody tr th:only-of-type {\n",
       "        vertical-align: middle;\n",
       "    }\n",
       "\n",
       "    .dataframe tbody tr th {\n",
       "        vertical-align: top;\n",
       "    }\n",
       "\n",
       "    .dataframe thead th {\n",
       "        text-align: right;\n",
       "    }\n",
       "</style>\n",
       "<table border=\"1\" class=\"dataframe\">\n",
       "  <thead>\n",
       "    <tr style=\"text-align: right;\">\n",
       "      <th></th>\n",
       "      <th>Time</th>\n",
       "      <th>V16</th>\n",
       "      <th>Amount</th>\n",
       "      <th>V28</th>\n",
       "      <th>V27</th>\n",
       "      <th>V26</th>\n",
       "      <th>V25</th>\n",
       "      <th>V24</th>\n",
       "      <th>V23</th>\n",
       "      <th>V22</th>\n",
       "      <th>...</th>\n",
       "      <th>V10</th>\n",
       "      <th>V9</th>\n",
       "      <th>V8</th>\n",
       "      <th>V7</th>\n",
       "      <th>V6</th>\n",
       "      <th>V5</th>\n",
       "      <th>V4</th>\n",
       "      <th>V3</th>\n",
       "      <th>V2</th>\n",
       "      <th>Class</th>\n",
       "    </tr>\n",
       "  </thead>\n",
       "  <tbody>\n",
       "    <tr>\n",
       "      <th>Total Null Values</th>\n",
       "      <td>0.0</td>\n",
       "      <td>0.0</td>\n",
       "      <td>0.0</td>\n",
       "      <td>0.0</td>\n",
       "      <td>0.0</td>\n",
       "      <td>0.0</td>\n",
       "      <td>0.0</td>\n",
       "      <td>0.0</td>\n",
       "      <td>0.0</td>\n",
       "      <td>0.0</td>\n",
       "      <td>...</td>\n",
       "      <td>0.0</td>\n",
       "      <td>0.0</td>\n",
       "      <td>0.0</td>\n",
       "      <td>0.0</td>\n",
       "      <td>0.0</td>\n",
       "      <td>0.0</td>\n",
       "      <td>0.0</td>\n",
       "      <td>0.0</td>\n",
       "      <td>0.0</td>\n",
       "      <td>0.0</td>\n",
       "    </tr>\n",
       "  </tbody>\n",
       "</table>\n",
       "<p>1 rows × 31 columns</p>\n",
       "</div>"
      ],
      "text/plain": [
       "                   Time  V16  Amount  V28  V27  V26  V25  V24  V23  V22  ...  \\\n",
       "Total Null Values   0.0  0.0     0.0  0.0  0.0  0.0  0.0  0.0  0.0  0.0  ...   \n",
       "\n",
       "                   V10   V9   V8   V7   V6   V5   V4   V3   V2  Class  \n",
       "Total Null Values  0.0  0.0  0.0  0.0  0.0  0.0  0.0  0.0  0.0    0.0  \n",
       "\n",
       "[1 rows x 31 columns]"
      ]
     },
     "execution_count": 5,
     "metadata": {},
     "output_type": "execute_result"
    }
   ],
   "source": [
    "# Checking the number of missing values in which columns\n",
    "missing_values = round((df.isnull().sum()*100/len(df)).sort_values(ascending = False),2) \n",
    "missing_values = pd.concat([missing_values], axis=1, keys=['Total Null Values']).T\n",
    "\n",
    "# Display missing values\n",
    "missing_values"
   ]
  },
  {
   "cell_type": "code",
   "execution_count": 6,
   "id": "cc8cf79c",
   "metadata": {},
   "outputs": [
    {
     "data": {
      "text/plain": [
       "((284315, 31), (492, 31))"
      ]
     },
     "execution_count": 6,
     "metadata": {},
     "output_type": "execute_result"
    }
   ],
   "source": [
    "# Separate dataset into legit and fraudelent transactions: Imbalanced dataset\n",
    "legit= df[df.Class==0]\n",
    "fraud= df[df.Class==1]\n",
    "\n",
    "legit.shape,fraud.shape"
   ]
  },
  {
   "cell_type": "markdown",
   "id": "d2731ab0",
   "metadata": {},
   "source": [
    "**Insight**: Imbance dataset -> to select 429 randomly legit transactions and create a new dataset that it will be used for modelling"
   ]
  },
  {
   "cell_type": "code",
   "execution_count": 44,
   "id": "68fb66ff",
   "metadata": {
    "scrolled": true
   },
   "outputs": [
    {
     "data": {
      "image/png": "[encoded data removed]",
      "text/plain": [
       "<Figure size 864x360 with 1 Axes>"
      ]
     },
     "metadata": {
      "needs_background": "light"
     },
     "output_type": "display_data"
    }
   ],
   "source": [
    "## Plotting a graph for better visualization\n",
    "plt.figure(figsize= [12,5])\n",
    "sns.barplot(y=[\"Legit\",\"Fraud\"], x = df[\"Class\"].value_counts(), palette = [\"g\",\"r\"],orient=\"h\")\n",
    "plt.ylabel(\"Transacion Description\",fontdict = {\"fontsize\":20})\n",
    "plt.xlabel(\"Count\",fontdict = {\"fontsize\":20})\n",
    "plt.title(\"Data Imbalance : Transactions (Legit Vs Fraud)\", fontdict = {\"fontsize\":25}, pad = 20)\n",
    "plt.show()"
   ]
  },
  {
   "cell_type": "code",
   "execution_count": 8,
   "id": "1a1784d0",
   "metadata": {
    "scrolled": true
   },
   "outputs": [
    {
     "name": "stdout",
     "output_type": "stream",
     "text": [
      "Legit Percentage - 99.83%\n",
      "Fraud Percentage - 0.17%\n",
      "Imbalance Ratio with respect to Legit and Fraud is given - 587.24:1 (approx)\n"
     ]
    }
   ],
   "source": [
    "#Ratio of imbalance percentage: Legit Vs Fraud\n",
    "Legit = round((df[\"Class\"].value_counts()[0]/len(df)* 100),2)\n",
    "print(\"Legit Percentage - {}%\".format(Legit))\n",
    "Fraud = round((df[\"Class\"].value_counts()[1]/len(df)* 100),2)\n",
    "print(\"Fraud Percentage - {}%\".format(Fraud))\n",
    "print(\"Imbalance Ratio with respect to Legit and Fraud is given - {0:.2f}:1 (approx)\".format(Legit/Fraud))"
   ]
  },
  {
   "cell_type": "code",
   "execution_count": 9,
   "id": "03be765f",
   "metadata": {},
   "outputs": [],
   "source": [
    "# To balance fraud and legit transactions in dataset : Select 492 randomly legit transactiosn from the dataset\n",
    "\n",
    "legit_sample = legit.sample(n=492)"
   ]
  },
  {
   "cell_type": "code",
   "execution_count": 10,
   "id": "ee506556",
   "metadata": {},
   "outputs": [],
   "source": [
    "# Join two DataFrame ( Legit and Fraud) by creating a new dataset\n",
    "data = pd.concat([legit_sample, fraud], axis=0)"
   ]
  },
  {
   "cell_type": "code",
   "execution_count": 11,
   "id": "267bf5e2",
   "metadata": {
    "scrolled": true
   },
   "outputs": [
    {
     "data": {
      "text/html": [
       "<div>\n",
       "<style scoped>\n",
       "    .dataframe tbody tr th:only-of-type {\n",
       "        vertical-align: middle;\n",
       "    }\n",
       "\n",
       "    .dataframe tbody tr th {\n",
       "        vertical-align: top;\n",
       "    }\n",
       "\n",
       "    .dataframe thead th {\n",
       "        text-align: right;\n",
       "    }\n",
       "</style>\n",
       "<table border=\"1\" class=\"dataframe\">\n",
       "  <thead>\n",
       "    <tr style=\"text-align: right;\">\n",
       "      <th></th>\n",
       "      <th>Time</th>\n",
       "      <th>V1</th>\n",
       "      <th>V2</th>\n",
       "      <th>V3</th>\n",
       "      <th>V4</th>\n",
       "      <th>V5</th>\n",
       "      <th>V6</th>\n",
       "      <th>V7</th>\n",
       "      <th>V8</th>\n",
       "      <th>V9</th>\n",
       "      <th>...</th>\n",
       "      <th>V21</th>\n",
       "      <th>V22</th>\n",
       "      <th>V23</th>\n",
       "      <th>V24</th>\n",
       "      <th>V25</th>\n",
       "      <th>V26</th>\n",
       "      <th>V27</th>\n",
       "      <th>V28</th>\n",
       "      <th>Amount</th>\n",
       "      <th>Class</th>\n",
       "    </tr>\n",
       "  </thead>\n",
       "  <tbody>\n",
       "    <tr>\n",
       "      <th>49334</th>\n",
       "      <td>44009.0</td>\n",
       "      <td>1.137568</td>\n",
       "      <td>-0.163174</td>\n",
       "      <td>-1.266944</td>\n",
       "      <td>0.127717</td>\n",
       "      <td>2.118298</td>\n",
       "      <td>3.411432</td>\n",
       "      <td>-0.344932</td>\n",
       "      <td>0.779102</td>\n",
       "      <td>-0.156193</td>\n",
       "      <td>...</td>\n",
       "      <td>0.064748</td>\n",
       "      <td>-0.092523</td>\n",
       "      <td>-0.214229</td>\n",
       "      <td>1.011615</td>\n",
       "      <td>0.804653</td>\n",
       "      <td>-0.273804</td>\n",
       "      <td>0.005801</td>\n",
       "      <td>0.028975</td>\n",
       "      <td>82.90</td>\n",
       "      <td>0</td>\n",
       "    </tr>\n",
       "    <tr>\n",
       "      <th>84620</th>\n",
       "      <td>60390.0</td>\n",
       "      <td>1.171145</td>\n",
       "      <td>0.648165</td>\n",
       "      <td>-0.247576</td>\n",
       "      <td>1.383095</td>\n",
       "      <td>0.066268</td>\n",
       "      <td>-0.972788</td>\n",
       "      <td>0.205987</td>\n",
       "      <td>-0.098202</td>\n",
       "      <td>-0.038249</td>\n",
       "      <td>...</td>\n",
       "      <td>-0.024674</td>\n",
       "      <td>0.009764</td>\n",
       "      <td>-0.047571</td>\n",
       "      <td>0.252583</td>\n",
       "      <td>0.557250</td>\n",
       "      <td>-0.316142</td>\n",
       "      <td>0.048759</td>\n",
       "      <td>0.056275</td>\n",
       "      <td>1.00</td>\n",
       "      <td>0</td>\n",
       "    </tr>\n",
       "    <tr>\n",
       "      <th>151965</th>\n",
       "      <td>96582.0</td>\n",
       "      <td>1.925853</td>\n",
       "      <td>-0.341952</td>\n",
       "      <td>-0.138572</td>\n",
       "      <td>0.741851</td>\n",
       "      <td>-0.684846</td>\n",
       "      <td>-0.506020</td>\n",
       "      <td>-0.607192</td>\n",
       "      <td>-0.196098</td>\n",
       "      <td>2.645058</td>\n",
       "      <td>...</td>\n",
       "      <td>0.121930</td>\n",
       "      <td>0.840447</td>\n",
       "      <td>0.050846</td>\n",
       "      <td>-0.027165</td>\n",
       "      <td>-0.046314</td>\n",
       "      <td>-0.196900</td>\n",
       "      <td>0.014397</td>\n",
       "      <td>-0.037490</td>\n",
       "      <td>39.83</td>\n",
       "      <td>0</td>\n",
       "    </tr>\n",
       "    <tr>\n",
       "      <th>270366</th>\n",
       "      <td>164043.0</td>\n",
       "      <td>2.347749</td>\n",
       "      <td>-0.975936</td>\n",
       "      <td>-2.385499</td>\n",
       "      <td>-1.499464</td>\n",
       "      <td>-0.345304</td>\n",
       "      <td>-1.806849</td>\n",
       "      <td>0.137097</td>\n",
       "      <td>-0.740212</td>\n",
       "      <td>-2.161629</td>\n",
       "      <td>...</td>\n",
       "      <td>0.141562</td>\n",
       "      <td>0.936511</td>\n",
       "      <td>-0.167725</td>\n",
       "      <td>0.057481</td>\n",
       "      <td>0.640533</td>\n",
       "      <td>0.300909</td>\n",
       "      <td>-0.069114</td>\n",
       "      <td>-0.083407</td>\n",
       "      <td>38.89</td>\n",
       "      <td>0</td>\n",
       "    </tr>\n",
       "    <tr>\n",
       "      <th>60783</th>\n",
       "      <td>49503.0</td>\n",
       "      <td>-0.827828</td>\n",
       "      <td>1.525677</td>\n",
       "      <td>1.505072</td>\n",
       "      <td>2.598416</td>\n",
       "      <td>0.034954</td>\n",
       "      <td>1.018916</td>\n",
       "      <td>-0.107902</td>\n",
       "      <td>0.943282</td>\n",
       "      <td>-1.712664</td>\n",
       "      <td>...</td>\n",
       "      <td>-0.056729</td>\n",
       "      <td>-0.238311</td>\n",
       "      <td>0.121461</td>\n",
       "      <td>-0.362996</td>\n",
       "      <td>-0.604215</td>\n",
       "      <td>0.007886</td>\n",
       "      <td>0.276736</td>\n",
       "      <td>0.119683</td>\n",
       "      <td>6.20</td>\n",
       "      <td>0</td>\n",
       "    </tr>\n",
       "  </tbody>\n",
       "</table>\n",
       "<p>5 rows × 31 columns</p>\n",
       "</div>"
      ],
      "text/plain": [
       "            Time        V1        V2        V3        V4        V5        V6  \\\n",
       "49334    44009.0  1.137568 -0.163174 -1.266944  0.127717  2.118298  3.411432   \n",
       "84620    60390.0  1.171145  0.648165 -0.247576  1.383095  0.066268 -0.972788   \n",
       "151965   96582.0  1.925853 -0.341952 -0.138572  0.741851 -0.684846 -0.506020   \n",
       "270366  164043.0  2.347749 -0.975936 -2.385499 -1.499464 -0.345304 -1.806849   \n",
       "60783    49503.0 -0.827828  1.525677  1.505072  2.598416  0.034954  1.018916   \n",
       "\n",
       "              V7        V8        V9  ...       V21       V22       V23  \\\n",
       "49334  -0.344932  0.779102 -0.156193  ...  0.064748 -0.092523 -0.214229   \n",
       "84620   0.205987 -0.098202 -0.038249  ... -0.024674  0.009764 -0.047571   \n",
       "151965 -0.607192 -0.196098  2.645058  ...  0.121930  0.840447  0.050846   \n",
       "270366  0.137097 -0.740212 -2.161629  ...  0.141562  0.936511 -0.167725   \n",
       "60783  -0.107902  0.943282 -1.712664  ... -0.056729 -0.238311  0.121461   \n",
       "\n",
       "             V24       V25       V26       V27       V28  Amount  Class  \n",
       "49334   1.011615  0.804653 -0.273804  0.005801  0.028975   82.90      0  \n",
       "84620   0.252583  0.557250 -0.316142  0.048759  0.056275    1.00      0  \n",
       "151965 -0.027165 -0.046314 -0.196900  0.014397 -0.037490   39.83      0  \n",
       "270366  0.057481  0.640533  0.300909 -0.069114 -0.083407   38.89      0  \n",
       "60783  -0.362996 -0.604215  0.007886  0.276736  0.119683    6.20      0  \n",
       "\n",
       "[5 rows x 31 columns]"
      ]
     },
     "execution_count": 11,
     "metadata": {},
     "output_type": "execute_result"
    }
   ],
   "source": [
    "data.head()"
   ]
  },
  {
   "cell_type": "code",
   "execution_count": 12,
   "id": "2d62e131",
   "metadata": {
    "scrolled": true
   },
   "outputs": [
    {
     "data": {
      "text/plain": [
       "0    492\n",
       "1    492\n",
       "Name: Class, dtype: int64"
      ]
     },
     "execution_count": 12,
     "metadata": {},
     "output_type": "execute_result"
    }
   ],
   "source": [
    "# Checking shape on the new dataset: Balance dataset\n",
    "data['Class'].value_counts()"
   ]
  },
  {
   "cell_type": "markdown",
   "id": "0b40613d",
   "metadata": {},
   "source": [
    "**Insight**: New dataset created and the dataset is balanced now."
   ]
  },
  {
   "cell_type": "code",
   "execution_count": 13,
   "id": "0bacd933",
   "metadata": {},
   "outputs": [
    {
     "data": {
      "image/png": "[encoded data removed]",
      "text/plain": [
       "<Figure size 1008x504 with 1 Axes>"
      ]
     },
     "metadata": {
      "needs_background": "light"
     },
     "output_type": "display_data"
    }
   ],
   "source": [
    "## Plotting a graph for better visualization\n",
    "plt.figure(figsize= [14,7])\n",
    "sns.barplot(y=[\"Legit\",\"Fraud\"], x = data[\"Class\"].value_counts(), palette = [\"g\",\"r\"],orient=\"h\")\n",
    "plt.ylabel(\"Transacion Description\",fontdict = {\"fontsize\":20})\n",
    "plt.xlabel(\"Count\",fontdict = {\"fontsize\":20})\n",
    "plt.title(\"Data Balance : Transactions (Legit Vs Fraud)\", fontdict = {\"fontsize\":25}, pad = 20)\n",
    "plt.show()"
   ]
  },
  {
   "cell_type": "code",
   "execution_count": 14,
   "id": "4588756a",
   "metadata": {
    "scrolled": false
   },
   "outputs": [
    {
     "data": {
      "text/html": [
       "<div>\n",
       "<style scoped>\n",
       "    .dataframe tbody tr th:only-of-type {\n",
       "        vertical-align: middle;\n",
       "    }\n",
       "\n",
       "    .dataframe tbody tr th {\n",
       "        vertical-align: top;\n",
       "    }\n",
       "\n",
       "    .dataframe thead th {\n",
       "        text-align: right;\n",
       "    }\n",
       "</style>\n",
       "<table border=\"1\" class=\"dataframe\">\n",
       "  <thead>\n",
       "    <tr style=\"text-align: right;\">\n",
       "      <th></th>\n",
       "      <th>Time</th>\n",
       "      <th>V1</th>\n",
       "      <th>V2</th>\n",
       "      <th>V3</th>\n",
       "      <th>V4</th>\n",
       "      <th>V5</th>\n",
       "      <th>V6</th>\n",
       "      <th>V7</th>\n",
       "      <th>V8</th>\n",
       "      <th>V9</th>\n",
       "      <th>...</th>\n",
       "      <th>V20</th>\n",
       "      <th>V21</th>\n",
       "      <th>V22</th>\n",
       "      <th>V23</th>\n",
       "      <th>V24</th>\n",
       "      <th>V25</th>\n",
       "      <th>V26</th>\n",
       "      <th>V27</th>\n",
       "      <th>V28</th>\n",
       "      <th>Amount</th>\n",
       "    </tr>\n",
       "    <tr>\n",
       "      <th>Class</th>\n",
       "      <th></th>\n",
       "      <th></th>\n",
       "      <th></th>\n",
       "      <th></th>\n",
       "      <th></th>\n",
       "      <th></th>\n",
       "      <th></th>\n",
       "      <th></th>\n",
       "      <th></th>\n",
       "      <th></th>\n",
       "      <th></th>\n",
       "      <th></th>\n",
       "      <th></th>\n",
       "      <th></th>\n",
       "      <th></th>\n",
       "      <th></th>\n",
       "      <th></th>\n",
       "      <th></th>\n",
       "      <th></th>\n",
       "      <th></th>\n",
       "      <th></th>\n",
       "    </tr>\n",
       "  </thead>\n",
       "  <tbody>\n",
       "    <tr>\n",
       "      <th>0</th>\n",
       "      <td>92988.221545</td>\n",
       "      <td>-0.145128</td>\n",
       "      <td>-0.081030</td>\n",
       "      <td>0.014834</td>\n",
       "      <td>-0.061295</td>\n",
       "      <td>0.099871</td>\n",
       "      <td>-0.014174</td>\n",
       "      <td>0.020184</td>\n",
       "      <td>-0.002743</td>\n",
       "      <td>-0.098001</td>\n",
       "      <td>...</td>\n",
       "      <td>-0.054842</td>\n",
       "      <td>-0.023777</td>\n",
       "      <td>-0.001417</td>\n",
       "      <td>-0.023177</td>\n",
       "      <td>0.02602</td>\n",
       "      <td>-0.001917</td>\n",
       "      <td>-0.001932</td>\n",
       "      <td>-0.010854</td>\n",
       "      <td>-0.010913</td>\n",
       "      <td>88.590976</td>\n",
       "    </tr>\n",
       "    <tr>\n",
       "      <th>1</th>\n",
       "      <td>80746.806911</td>\n",
       "      <td>-4.771948</td>\n",
       "      <td>3.623778</td>\n",
       "      <td>-7.033281</td>\n",
       "      <td>4.542029</td>\n",
       "      <td>-3.151225</td>\n",
       "      <td>-1.397737</td>\n",
       "      <td>-5.568731</td>\n",
       "      <td>0.570636</td>\n",
       "      <td>-2.581123</td>\n",
       "      <td>...</td>\n",
       "      <td>0.372319</td>\n",
       "      <td>0.713588</td>\n",
       "      <td>0.014049</td>\n",
       "      <td>-0.040308</td>\n",
       "      <td>-0.10513</td>\n",
       "      <td>0.041449</td>\n",
       "      <td>0.051648</td>\n",
       "      <td>0.170575</td>\n",
       "      <td>0.075667</td>\n",
       "      <td>122.211321</td>\n",
       "    </tr>\n",
       "  </tbody>\n",
       "</table>\n",
       "<p>2 rows × 30 columns</p>\n",
       "</div>"
      ],
      "text/plain": [
       "               Time        V1        V2        V3        V4        V5  \\\n",
       "Class                                                                   \n",
       "0      92988.221545 -0.145128 -0.081030  0.014834 -0.061295  0.099871   \n",
       "1      80746.806911 -4.771948  3.623778 -7.033281  4.542029 -3.151225   \n",
       "\n",
       "             V6        V7        V8        V9  ...       V20       V21  \\\n",
       "Class                                          ...                       \n",
       "0     -0.014174  0.020184 -0.002743 -0.098001  ... -0.054842 -0.023777   \n",
       "1     -1.397737 -5.568731  0.570636 -2.581123  ...  0.372319  0.713588   \n",
       "\n",
       "            V22       V23      V24       V25       V26       V27       V28  \\\n",
       "Class                                                                        \n",
       "0     -0.001417 -0.023177  0.02602 -0.001917 -0.001932 -0.010854 -0.010913   \n",
       "1      0.014049 -0.040308 -0.10513  0.041449  0.051648  0.170575  0.075667   \n",
       "\n",
       "           Amount  \n",
       "Class              \n",
       "0       88.590976  \n",
       "1      122.211321  \n",
       "\n",
       "[2 rows x 30 columns]"
      ]
     },
     "execution_count": 14,
     "metadata": {},
     "output_type": "execute_result"
    }
   ],
   "source": [
    "# Compare the legit vs fraud values: Using the dataset mean to compare the Legit Vs Fraud transactions.\n",
    "data.groupby('Class').mean()"
   ]
  },
  {
   "cell_type": "code",
   "execution_count": 15,
   "id": "bafd96ca",
   "metadata": {},
   "outputs": [
    {
     "data": {
      "text/html": [
       "<div>\n",
       "<style scoped>\n",
       "    .dataframe tbody tr th:only-of-type {\n",
       "        vertical-align: middle;\n",
       "    }\n",
       "\n",
       "    .dataframe tbody tr th {\n",
       "        vertical-align: top;\n",
       "    }\n",
       "\n",
       "    .dataframe thead th {\n",
       "        text-align: right;\n",
       "    }\n",
       "</style>\n",
       "<table border=\"1\" class=\"dataframe\">\n",
       "  <thead>\n",
       "    <tr style=\"text-align: right;\">\n",
       "      <th></th>\n",
       "      <th>Time</th>\n",
       "      <th>V1</th>\n",
       "      <th>V2</th>\n",
       "      <th>V3</th>\n",
       "      <th>V4</th>\n",
       "      <th>V5</th>\n",
       "      <th>V6</th>\n",
       "      <th>V7</th>\n",
       "      <th>V8</th>\n",
       "      <th>V9</th>\n",
       "      <th>...</th>\n",
       "      <th>V20</th>\n",
       "      <th>V21</th>\n",
       "      <th>V22</th>\n",
       "      <th>V23</th>\n",
       "      <th>V24</th>\n",
       "      <th>V25</th>\n",
       "      <th>V26</th>\n",
       "      <th>V27</th>\n",
       "      <th>V28</th>\n",
       "      <th>Amount</th>\n",
       "    </tr>\n",
       "  </thead>\n",
       "  <tbody>\n",
       "    <tr>\n",
       "      <th>mean</th>\n",
       "      <td>86867.514228</td>\n",
       "      <td>-2.458538</td>\n",
       "      <td>1.771374</td>\n",
       "      <td>-3.509223</td>\n",
       "      <td>2.240367</td>\n",
       "      <td>-1.525677</td>\n",
       "      <td>-0.705955</td>\n",
       "      <td>-2.774274</td>\n",
       "      <td>0.283947</td>\n",
       "      <td>-1.339562</td>\n",
       "      <td>...</td>\n",
       "      <td>0.158739</td>\n",
       "      <td>0.344905</td>\n",
       "      <td>0.006316</td>\n",
       "      <td>-0.031743</td>\n",
       "      <td>-0.039555</td>\n",
       "      <td>0.019766</td>\n",
       "      <td>0.024858</td>\n",
       "      <td>0.079860</td>\n",
       "      <td>0.032377</td>\n",
       "      <td>105.401148</td>\n",
       "    </tr>\n",
       "    <tr>\n",
       "      <th>std</th>\n",
       "      <td>47838.467736</td>\n",
       "      <td>5.506532</td>\n",
       "      <td>3.734534</td>\n",
       "      <td>6.220726</td>\n",
       "      <td>3.224043</td>\n",
       "      <td>4.308106</td>\n",
       "      <td>1.829587</td>\n",
       "      <td>5.911478</td>\n",
       "      <td>4.862156</td>\n",
       "      <td>2.286139</td>\n",
       "      <td>...</td>\n",
       "      <td>1.167131</td>\n",
       "      <td>2.790511</td>\n",
       "      <td>1.159460</td>\n",
       "      <td>1.218719</td>\n",
       "      <td>0.548636</td>\n",
       "      <td>0.688994</td>\n",
       "      <td>0.481423</td>\n",
       "      <td>1.020088</td>\n",
       "      <td>0.439030</td>\n",
       "      <td>274.948433</td>\n",
       "    </tr>\n",
       "  </tbody>\n",
       "</table>\n",
       "<p>2 rows × 30 columns</p>\n",
       "</div>"
      ],
      "text/plain": [
       "              Time        V1        V2        V3        V4        V5  \\\n",
       "mean  86867.514228 -2.458538  1.771374 -3.509223  2.240367 -1.525677   \n",
       "std   47838.467736  5.506532  3.734534  6.220726  3.224043  4.308106   \n",
       "\n",
       "            V6        V7        V8        V9  ...       V20       V21  \\\n",
       "mean -0.705955 -2.774274  0.283947 -1.339562  ...  0.158739  0.344905   \n",
       "std   1.829587  5.911478  4.862156  2.286139  ...  1.167131  2.790511   \n",
       "\n",
       "           V22       V23       V24       V25       V26       V27       V28  \\\n",
       "mean  0.006316 -0.031743 -0.039555  0.019766  0.024858  0.079860  0.032377   \n",
       "std   1.159460  1.218719  0.548636  0.688994  0.481423  1.020088  0.439030   \n",
       "\n",
       "          Amount  \n",
       "mean  105.401148  \n",
       "std   274.948433  \n",
       "\n",
       "[2 rows x 30 columns]"
      ]
     },
     "execution_count": 15,
     "metadata": {},
     "output_type": "execute_result"
    }
   ],
   "source": [
    "# Mean and Standard-Deviation for all features: Checking if the dataset is normalized\n",
    "feat = data.drop(['Class'], axis = 1)\n",
    "feat.describe().loc[['mean', 'std']]"
   ]
  },
  {
   "cell_type": "markdown",
   "id": "52424e51",
   "metadata": {},
   "source": [
    "**Insight**: V1-v28 are already standardized with mean = 0 and standard deviation = 1."
   ]
  },
  {
   "cell_type": "code",
   "execution_count": 16,
   "id": "d0f817fa",
   "metadata": {},
   "outputs": [
    {
     "data": {
      "image/png": "[encoded data removed]",
      "text/plain": [
       "<Figure size 720x504 with 2 Axes>"
      ]
     },
     "metadata": {
      "needs_background": "light"
     },
     "output_type": "display_data"
    }
   ],
   "source": [
    "# Plotting the Correlation Matrix: Checking the degree of relationship between dataset elements\n",
    "\n",
    "corr_data = feat.corr()\n",
    "fig = plt.figure(figsize = (10, 7))\n",
    "sns.heatmap(corr_data, vmax = .8, square = True)\n",
    "plt.show()"
   ]
  },
  {
   "cell_type": "markdown",
   "id": "7412594e",
   "metadata": {},
   "source": [
    "**Insight**: Features are not correlated -> No feature will be droppped "
   ]
  },
  {
   "cell_type": "code",
   "execution_count": 17,
   "id": "8ed4b370",
   "metadata": {},
   "outputs": [
    {
     "data": {
      "text/html": [
       "<div>\n",
       "<style scoped>\n",
       "    .dataframe tbody tr th:only-of-type {\n",
       "        vertical-align: middle;\n",
       "    }\n",
       "\n",
       "    .dataframe tbody tr th {\n",
       "        vertical-align: top;\n",
       "    }\n",
       "\n",
       "    .dataframe thead th {\n",
       "        text-align: right;\n",
       "    }\n",
       "</style>\n",
       "<table border=\"1\" class=\"dataframe\">\n",
       "  <thead>\n",
       "    <tr style=\"text-align: right;\">\n",
       "      <th></th>\n",
       "      <th>V1</th>\n",
       "      <th>V2</th>\n",
       "      <th>V3</th>\n",
       "      <th>V4</th>\n",
       "      <th>V5</th>\n",
       "      <th>V6</th>\n",
       "      <th>V7</th>\n",
       "      <th>V8</th>\n",
       "      <th>V9</th>\n",
       "      <th>V10</th>\n",
       "      <th>...</th>\n",
       "      <th>V22</th>\n",
       "      <th>V23</th>\n",
       "      <th>V24</th>\n",
       "      <th>V25</th>\n",
       "      <th>V26</th>\n",
       "      <th>V27</th>\n",
       "      <th>V28</th>\n",
       "      <th>Class</th>\n",
       "      <th>scaled_amount</th>\n",
       "      <th>scaled_time</th>\n",
       "    </tr>\n",
       "  </thead>\n",
       "  <tbody>\n",
       "    <tr>\n",
       "      <th>49334</th>\n",
       "      <td>1.137568</td>\n",
       "      <td>-0.163174</td>\n",
       "      <td>-1.266944</td>\n",
       "      <td>0.127717</td>\n",
       "      <td>2.118298</td>\n",
       "      <td>3.411432</td>\n",
       "      <td>-0.344932</td>\n",
       "      <td>0.779102</td>\n",
       "      <td>-0.156193</td>\n",
       "      <td>0.089207</td>\n",
       "      <td>...</td>\n",
       "      <td>-0.092523</td>\n",
       "      <td>-0.214229</td>\n",
       "      <td>1.011615</td>\n",
       "      <td>0.804653</td>\n",
       "      <td>-0.273804</td>\n",
       "      <td>0.005801</td>\n",
       "      <td>0.028975</td>\n",
       "      <td>0</td>\n",
       "      <td>0.649858</td>\n",
       "      <td>-0.406822</td>\n",
       "    </tr>\n",
       "    <tr>\n",
       "      <th>84620</th>\n",
       "      <td>1.171145</td>\n",
       "      <td>0.648165</td>\n",
       "      <td>-0.247576</td>\n",
       "      <td>1.383095</td>\n",
       "      <td>0.066268</td>\n",
       "      <td>-0.972788</td>\n",
       "      <td>0.205987</td>\n",
       "      <td>-0.098202</td>\n",
       "      <td>-0.038249</td>\n",
       "      <td>-0.710898</td>\n",
       "      <td>...</td>\n",
       "      <td>0.009764</td>\n",
       "      <td>-0.047571</td>\n",
       "      <td>0.252583</td>\n",
       "      <td>0.557250</td>\n",
       "      <td>-0.316142</td>\n",
       "      <td>0.048759</td>\n",
       "      <td>0.056275</td>\n",
       "      <td>0</td>\n",
       "      <td>-0.182798</td>\n",
       "      <td>-0.218439</td>\n",
       "    </tr>\n",
       "    <tr>\n",
       "      <th>151965</th>\n",
       "      <td>1.925853</td>\n",
       "      <td>-0.341952</td>\n",
       "      <td>-0.138572</td>\n",
       "      <td>0.741851</td>\n",
       "      <td>-0.684846</td>\n",
       "      <td>-0.506020</td>\n",
       "      <td>-0.607192</td>\n",
       "      <td>-0.196098</td>\n",
       "      <td>2.645058</td>\n",
       "      <td>-0.568220</td>\n",
       "      <td>...</td>\n",
       "      <td>0.840447</td>\n",
       "      <td>0.050846</td>\n",
       "      <td>-0.027165</td>\n",
       "      <td>-0.046314</td>\n",
       "      <td>-0.196900</td>\n",
       "      <td>0.014397</td>\n",
       "      <td>-0.037490</td>\n",
       "      <td>0</td>\n",
       "      <td>0.211976</td>\n",
       "      <td>0.197773</td>\n",
       "    </tr>\n",
       "    <tr>\n",
       "      <th>270366</th>\n",
       "      <td>2.347749</td>\n",
       "      <td>-0.975936</td>\n",
       "      <td>-2.385499</td>\n",
       "      <td>-1.499464</td>\n",
       "      <td>-0.345304</td>\n",
       "      <td>-1.806849</td>\n",
       "      <td>0.137097</td>\n",
       "      <td>-0.740212</td>\n",
       "      <td>-2.161629</td>\n",
       "      <td>1.721556</td>\n",
       "      <td>...</td>\n",
       "      <td>0.936511</td>\n",
       "      <td>-0.167725</td>\n",
       "      <td>0.057481</td>\n",
       "      <td>0.640533</td>\n",
       "      <td>0.300909</td>\n",
       "      <td>-0.069114</td>\n",
       "      <td>-0.083407</td>\n",
       "      <td>0</td>\n",
       "      <td>0.202420</td>\n",
       "      <td>0.973581</td>\n",
       "    </tr>\n",
       "    <tr>\n",
       "      <th>60783</th>\n",
       "      <td>-0.827828</td>\n",
       "      <td>1.525677</td>\n",
       "      <td>1.505072</td>\n",
       "      <td>2.598416</td>\n",
       "      <td>0.034954</td>\n",
       "      <td>1.018916</td>\n",
       "      <td>-0.107902</td>\n",
       "      <td>0.943282</td>\n",
       "      <td>-1.712664</td>\n",
       "      <td>0.735173</td>\n",
       "      <td>...</td>\n",
       "      <td>-0.238311</td>\n",
       "      <td>0.121461</td>\n",
       "      <td>-0.362996</td>\n",
       "      <td>-0.604215</td>\n",
       "      <td>0.007886</td>\n",
       "      <td>0.276736</td>\n",
       "      <td>0.119683</td>\n",
       "      <td>0</td>\n",
       "      <td>-0.129931</td>\n",
       "      <td>-0.343640</td>\n",
       "    </tr>\n",
       "  </tbody>\n",
       "</table>\n",
       "<p>5 rows × 31 columns</p>\n",
       "</div>"
      ],
      "text/plain": [
       "              V1        V2        V3        V4        V5        V6        V7  \\\n",
       "49334   1.137568 -0.163174 -1.266944  0.127717  2.118298  3.411432 -0.344932   \n",
       "84620   1.171145  0.648165 -0.247576  1.383095  0.066268 -0.972788  0.205987   \n",
       "151965  1.925853 -0.341952 -0.138572  0.741851 -0.684846 -0.506020 -0.607192   \n",
       "270366  2.347749 -0.975936 -2.385499 -1.499464 -0.345304 -1.806849  0.137097   \n",
       "60783  -0.827828  1.525677  1.505072  2.598416  0.034954  1.018916 -0.107902   \n",
       "\n",
       "              V8        V9       V10  ...       V22       V23       V24  \\\n",
       "49334   0.779102 -0.156193  0.089207  ... -0.092523 -0.214229  1.011615   \n",
       "84620  -0.098202 -0.038249 -0.710898  ...  0.009764 -0.047571  0.252583   \n",
       "151965 -0.196098  2.645058 -0.568220  ...  0.840447  0.050846 -0.027165   \n",
       "270366 -0.740212 -2.161629  1.721556  ...  0.936511 -0.167725  0.057481   \n",
       "60783   0.943282 -1.712664  0.735173  ... -0.238311  0.121461 -0.362996   \n",
       "\n",
       "             V25       V26       V27       V28  Class  scaled_amount  \\\n",
       "49334   0.804653 -0.273804  0.005801  0.028975      0       0.649858   \n",
       "84620   0.557250 -0.316142  0.048759  0.056275      0      -0.182798   \n",
       "151965 -0.046314 -0.196900  0.014397 -0.037490      0       0.211976   \n",
       "270366  0.640533  0.300909 -0.069114 -0.083407      0       0.202420   \n",
       "60783  -0.604215  0.007886  0.276736  0.119683      0      -0.129931   \n",
       "\n",
       "        scaled_time  \n",
       "49334     -0.406822  \n",
       "84620     -0.218439  \n",
       "151965     0.197773  \n",
       "270366     0.973581  \n",
       "60783     -0.343640  \n",
       "\n",
       "[5 rows x 31 columns]"
      ]
     },
     "execution_count": 17,
     "metadata": {},
     "output_type": "execute_result"
    }
   ],
   "source": [
    "# Scaling the data: RobustScaler is less prone to outliers \n",
    "rob_scaler = RobustScaler()\n",
    "\n",
    "data['scaled_amount'] = rob_scaler.fit_transform(\n",
    "    data['Amount'].values.reshape(-1, 1))\n",
    "\n",
    "data['scaled_time'] = rob_scaler.fit_transform(\n",
    "    data['Time'].values.reshape(-1, 1))\n",
    "    \n",
    "data.drop(['Time', 'Amount'], axis=1, inplace=True)\n",
    "\n",
    "# visualize the data\n",
    "data.head()\n"
   ]
  },
  {
   "cell_type": "markdown",
   "id": "9aa446b3",
   "metadata": {},
   "source": [
    "### Splitting dataset into **features** and **target**"
   ]
  },
  {
   "cell_type": "code",
   "execution_count": 18,
   "id": "0862136b",
   "metadata": {},
   "outputs": [],
   "source": [
    "# Splitting datset into X:Features and y:Target\n",
    "\n",
    "X = data.drop('Class', axis = 1).values\n",
    "y = data['Class'].values"
   ]
  },
  {
   "cell_type": "code",
   "execution_count": 19,
   "id": "8d3b50aa",
   "metadata": {
    "scrolled": true
   },
   "outputs": [
    {
     "name": "stdout",
     "output_type": "stream",
     "text": [
      "[[ 1.13756838 -0.16317383 -1.26694427 ...  0.02897484  0.64985767\n",
      "  -0.40682186]\n",
      " [ 1.17114505  0.64816455 -0.24757592 ...  0.05627523 -0.18279789\n",
      "  -0.21843869]\n",
      " [ 1.92585349 -0.34195189 -0.138572   ... -0.0374895   0.21197641\n",
      "   0.19777301]\n",
      " ...\n",
      " [-0.67614267  1.12636606 -2.21369952 ...  0.19436148  0.59892233\n",
      "   1.03462393]\n",
      " [-3.11383161  0.58586417 -5.39973021 ... -0.25370032  2.29788532\n",
      "   1.0416965 ]\n",
      " [ 1.9919761   0.15847589 -2.58344065 ... -0.01530881  0.2394266\n",
      "   1.04608953]]\n"
     ]
    }
   ],
   "source": [
    "print(X)"
   ]
  },
  {
   "cell_type": "code",
   "execution_count": 20,
   "id": "72767c9f",
   "metadata": {},
   "outputs": [
    {
     "name": "stdout",
     "output_type": "stream",
     "text": [
      "[0 0 0 0 0 0 0 0 0 0 0 0 0 0 0 0 0 0 0 0 0 0 0 0 0 0 0 0 0 0 0 0 0 0 0 0 0\n",
      " 0 0 0 0 0 0 0 0 0 0 0 0 0 0 0 0 0 0 0 0 0 0 0 0 0 0 0 0 0 0 0 0 0 0 0 0 0\n",
      " 0 0 0 0 0 0 0 0 0 0 0 0 0 0 0 0 0 0 0 0 0 0 0 0 0 0 0 0 0 0 0 0 0 0 0 0 0\n",
      " 0 0 0 0 0 0 0 0 0 0 0 0 0 0 0 0 0 0 0 0 0 0 0 0 0 0 0 0 0 0 0 0 0 0 0 0 0\n",
      " 0 0 0 0 0 0 0 0 0 0 0 0 0 0 0 0 0 0 0 0 0 0 0 0 0 0 0 0 0 0 0 0 0 0 0 0 0\n",
      " 0 0 0 0 0 0 0 0 0 0 0 0 0 0 0 0 0 0 0 0 0 0 0 0 0 0 0 0 0 0 0 0 0 0 0 0 0\n",
      " 0 0 0 0 0 0 0 0 0 0 0 0 0 0 0 0 0 0 0 0 0 0 0 0 0 0 0 0 0 0 0 0 0 0 0 0 0\n",
      " 0 0 0 0 0 0 0 0 0 0 0 0 0 0 0 0 0 0 0 0 0 0 0 0 0 0 0 0 0 0 0 0 0 0 0 0 0\n",
      " 0 0 0 0 0 0 0 0 0 0 0 0 0 0 0 0 0 0 0 0 0 0 0 0 0 0 0 0 0 0 0 0 0 0 0 0 0\n",
      " 0 0 0 0 0 0 0 0 0 0 0 0 0 0 0 0 0 0 0 0 0 0 0 0 0 0 0 0 0 0 0 0 0 0 0 0 0\n",
      " 0 0 0 0 0 0 0 0 0 0 0 0 0 0 0 0 0 0 0 0 0 0 0 0 0 0 0 0 0 0 0 0 0 0 0 0 0\n",
      " 0 0 0 0 0 0 0 0 0 0 0 0 0 0 0 0 0 0 0 0 0 0 0 0 0 0 0 0 0 0 0 0 0 0 0 0 0\n",
      " 0 0 0 0 0 0 0 0 0 0 0 0 0 0 0 0 0 0 0 0 0 0 0 0 0 0 0 0 0 0 0 0 0 0 0 0 0\n",
      " 0 0 0 0 0 0 0 0 0 0 0 1 1 1 1 1 1 1 1 1 1 1 1 1 1 1 1 1 1 1 1 1 1 1 1 1 1\n",
      " 1 1 1 1 1 1 1 1 1 1 1 1 1 1 1 1 1 1 1 1 1 1 1 1 1 1 1 1 1 1 1 1 1 1 1 1 1\n",
      " 1 1 1 1 1 1 1 1 1 1 1 1 1 1 1 1 1 1 1 1 1 1 1 1 1 1 1 1 1 1 1 1 1 1 1 1 1\n",
      " 1 1 1 1 1 1 1 1 1 1 1 1 1 1 1 1 1 1 1 1 1 1 1 1 1 1 1 1 1 1 1 1 1 1 1 1 1\n",
      " 1 1 1 1 1 1 1 1 1 1 1 1 1 1 1 1 1 1 1 1 1 1 1 1 1 1 1 1 1 1 1 1 1 1 1 1 1\n",
      " 1 1 1 1 1 1 1 1 1 1 1 1 1 1 1 1 1 1 1 1 1 1 1 1 1 1 1 1 1 1 1 1 1 1 1 1 1\n",
      " 1 1 1 1 1 1 1 1 1 1 1 1 1 1 1 1 1 1 1 1 1 1 1 1 1 1 1 1 1 1 1 1 1 1 1 1 1\n",
      " 1 1 1 1 1 1 1 1 1 1 1 1 1 1 1 1 1 1 1 1 1 1 1 1 1 1 1 1 1 1 1 1 1 1 1 1 1\n",
      " 1 1 1 1 1 1 1 1 1 1 1 1 1 1 1 1 1 1 1 1 1 1 1 1 1 1 1 1 1 1 1 1 1 1 1 1 1\n",
      " 1 1 1 1 1 1 1 1 1 1 1 1 1 1 1 1 1 1 1 1 1 1 1 1 1 1 1 1 1 1 1 1 1 1 1 1 1\n",
      " 1 1 1 1 1 1 1 1 1 1 1 1 1 1 1 1 1 1 1 1 1 1 1 1 1 1 1 1 1 1 1 1 1 1 1 1 1\n",
      " 1 1 1 1 1 1 1 1 1 1 1 1 1 1 1 1 1 1 1 1 1 1 1 1 1 1 1 1 1 1 1 1 1 1 1 1 1\n",
      " 1 1 1 1 1 1 1 1 1 1 1 1 1 1 1 1 1 1 1 1 1 1 1 1 1 1 1 1 1 1 1 1 1 1 1 1 1\n",
      " 1 1 1 1 1 1 1 1 1 1 1 1 1 1 1 1 1 1 1 1 1 1]\n"
     ]
    }
   ],
   "source": [
    "print(y)"
   ]
  },
  {
   "cell_type": "markdown",
   "id": "d128cf40",
   "metadata": {},
   "source": [
    "## 3. Modelling "
   ]
  },
  {
   "cell_type": "markdown",
   "id": "74fe8026",
   "metadata": {},
   "source": [
    "### Train-Test Split"
   ]
  },
  {
   "cell_type": "code",
   "execution_count": 21,
   "id": "0eaf5a79",
   "metadata": {},
   "outputs": [
    {
     "name": "stdout",
     "output_type": "stream",
     "text": [
      "(984, 30) (885, 30) (99, 30)\n"
     ]
    }
   ],
   "source": [
    "# split the data into training data and test data\n",
    "X_train, X_test, y_train, y_test = train_test_split(X,y,\n",
    "                                                    train_size=0.90,\n",
    "                                                    stratify=y, \n",
    "                                                    random_state=2)\n",
    "\n",
    "print(X.shape, X_train.shape, X_test.shape)"
   ]
  },
  {
   "cell_type": "code",
   "execution_count": 22,
   "id": "10655c11",
   "metadata": {},
   "outputs": [],
   "source": [
    "# Function used in cross-validation to return F1 score \n",
    "def fun(est, X, y):\n",
    "    pred = est.predict(X)\n",
    "    return f1_score(y, pred)"
   ]
  },
  {
   "cell_type": "markdown",
   "id": "956c6c19",
   "metadata": {},
   "source": [
    "## Logistic Regression"
   ]
  },
  {
   "cell_type": "code",
   "execution_count": 23,
   "id": "f34c484a",
   "metadata": {},
   "outputs": [],
   "source": [
    "# training ml model --> Logistic Regression\n",
    "lr = LogisticRegression(solver='liblinear', max_iter=500)\n",
    "lr = lr.fit(X_train, y_train)"
   ]
  },
  {
   "cell_type": "code",
   "execution_count": 24,
   "id": "27d73e2c",
   "metadata": {},
   "outputs": [
    {
     "data": {
      "text/plain": [
       "array([[ 0.12213236,  0.09024528, -0.1320184 ,  0.80042245,  0.25824292,\n",
       "        -0.35976505,  0.0512469 , -0.62619097, -0.00667358, -0.34769069,\n",
       "         0.36554849, -0.52795151, -0.28101408, -1.01359207, -0.22417653,\n",
       "        -0.41827632, -0.32864544, -0.30546786, -0.10729102, -0.28835915,\n",
       "         0.0461273 ,  0.69100798, -0.02939767,  0.09823963, -0.03744012,\n",
       "        -0.08969643,  0.52737619,  0.23345851,  0.31736361, -0.76066251]])"
      ]
     },
     "execution_count": 24,
     "metadata": {},
     "output_type": "execute_result"
    }
   ],
   "source": [
    "lr.coef_"
   ]
  },
  {
   "cell_type": "markdown",
   "id": "9d2a06f4",
   "metadata": {},
   "source": [
    "## Evaluation"
   ]
  },
  {
   "cell_type": "code",
   "execution_count": 25,
   "id": "c0f00083",
   "metadata": {},
   "outputs": [
    {
     "name": "stdout",
     "output_type": "stream",
     "text": [
      "AUC_ROC Score for Logistic regression on training data is: 0.9876970062204427\n",
      "AUC_ROC Score for Logistic regression on validation data is: 0.9791836734693877\n"
     ]
    }
   ],
   "source": [
    "# checking the AUC ROC score on both training and validation data set\n",
    "AUC_ROC_Score_train= roc_auc_score(y_train, lr.predict_proba(X_train)[:, 1])\n",
    "AUC_ROC_Score_test= roc_auc_score(y_test, lr.predict_proba(X_test)[:, 1])\n",
    "\n",
    "print(f\"AUC_ROC Score for Logistic regression on training data is: {AUC_ROC_Score_train}\")\n",
    "print(f\"AUC_ROC Score for Logistic regression on validation data is: {AUC_ROC_Score_test}\")"
   ]
  },
  {
   "cell_type": "code",
   "execution_count": 26,
   "id": "4d1b1291",
   "metadata": {},
   "outputs": [],
   "source": [
    "#Accuracy scores\n",
    "Y_predicted_lr = lr.predict(X_test)\n",
    "Y_pred_train_lr = lr.predict(X_train)"
   ]
  },
  {
   "cell_type": "code",
   "execution_count": 27,
   "id": "2e18f984",
   "metadata": {},
   "outputs": [],
   "source": [
    "# print('\\n Confusion Matrix \\n')\n",
    "# print(confusion_matrix(Y_predicted_model, y_test))\n",
    "\n",
    "# ac = accuracy_score(y_test, Y_predicted_model)\n",
    "# print('\\n Macro Averaged Accuracy :'+str(ac))\n",
    "\n",
    "# pr = precision_score(y_test, Y_predicted_model, average='macro')\n",
    "# print('\\n Macro Averaged Precision :'+str(pr))\n",
    "\n",
    "# re = recall_score(y_test, Y_predicted_model, average='macro')\n",
    "# print('\\n Macro Averaged Recall :'+str(re))\n",
    "\n",
    "# fm = f1_score(y_test, Y_predicted_model, average='macro')\n",
    "# print('\\n Macro Averaged F1-Score :'+str(fm))\n",
    "\n",
    "# fm = f1_score(y_test, Y_predicted_model, average='micro')\n",
    "# print('\\n Micro Averaged F1-Score:'+str(fm))"
   ]
  },
  {
   "cell_type": "code",
   "execution_count": 28,
   "id": "e416b70e",
   "metadata": {},
   "outputs": [
    {
     "name": "stdout",
     "output_type": "stream",
     "text": [
      "Accuracy of Logistic Regression model:  0.9090909090909091\n",
      "F1 score of Logistic Regression model:  0.9072164948453607\n"
     ]
    },
    {
     "data": {
      "image/png": "[encoded data removed]",
      "text/plain": [
       "<Figure size 432x288 with 2 Axes>"
      ]
     },
     "metadata": {
      "needs_background": "light"
     },
     "output_type": "display_data"
    },
    {
     "name": "stdout",
     "output_type": "stream",
     "text": [
      "Classification Report:\n",
      "              precision    recall  f1-score   support\n",
      "\n",
      "           0       0.90      0.92      0.91        50\n",
      "           1       0.92      0.90      0.91        49\n",
      "\n",
      "    accuracy                           0.91        99\n",
      "   macro avg       0.91      0.91      0.91        99\n",
      "weighted avg       0.91      0.91      0.91        99\n",
      "\n"
     ]
    }
   ],
   "source": [
    "# Displaying Confusion Matrix For Logistic Regression\n",
    "\n",
    "print('Accuracy of Logistic Regression model: ', accuracy_score(y_test, Y_predicted_lr))\n",
    "print('F1 score of Logistic Regression model: ', f1_score(y_test, Y_predicted_lr))\n",
    "plot_confusion_matrix(lr, X_test, y_test)\n",
    "plt.ylabel('Actual class')\n",
    "plt.xlabel('Predicted class')\n",
    "plt.title('Confusion Matrix for Logistic Regression')\n",
    "plt.show()\n",
    "\n",
    "print('Classification Report:')\n",
    "print(classification_report(y_test, Y_predicted_lr))"
   ]
  },
  {
   "cell_type": "code",
   "execution_count": 29,
   "id": "63e937a4",
   "metadata": {
    "scrolled": true
   },
   "outputs": [
    {
     "data": {
      "image/png": "[encoded data removed]",
      "text/plain": [
       "<Figure size 432x288 with 1 Axes>"
      ]
     },
     "metadata": {
      "needs_background": "light"
     },
     "output_type": "display_data"
    }
   ],
   "source": [
    "#calculate precision and recall\n",
    "precision, recall, thresholds = precision_recall_curve(y_test, Y_predicted_lr)\n",
    "\n",
    "#create precision recall curve\n",
    "fig, ax = plt.subplots()\n",
    "ax.plot(recall, precision, color='purple')\n",
    "\n",
    "#add axis labels to plot\n",
    "ax.set_title('Precision-Recall Curve')\n",
    "ax.set_ylabel('Precision')\n",
    "ax.set_xlabel('Recall')\n",
    "\n",
    "#display plot\n",
    "plt.show()"
   ]
  },
  {
   "cell_type": "markdown",
   "id": "287f7766",
   "metadata": {},
   "source": [
    "## Randon Forest Classifier"
   ]
  },
  {
   "cell_type": "code",
   "execution_count": 30,
   "id": "24f98392",
   "metadata": {},
   "outputs": [],
   "source": [
    "# Random Forest Classifier\n",
    "\n",
    "rf = RandomForestClassifier(max_depth = 4)\n",
    "rf.fit(X_train, y_train)\n",
    "rf_predict = rf.predict(X_test)"
   ]
  },
  {
   "cell_type": "markdown",
   "id": "16e0d7f5",
   "metadata": {},
   "source": [
    "### Evaluation"
   ]
  },
  {
   "cell_type": "code",
   "execution_count": 31,
   "id": "4091cd38",
   "metadata": {},
   "outputs": [
    {
     "name": "stdout",
     "output_type": "stream",
     "text": [
      "On training data, RF Classifier has a AUCROC Score of: 99.23546775890422\n",
      "On test data, RF Classifier has a AUCROC Score of: 96.48979591836735\n"
     ]
    }
   ],
   "source": [
    "# AUC ROC scores on the training and test dataset\n",
    "AUC_ROC_Score = roc_auc_score(y_train, rf.predict_proba(X_train)[:, 1])\n",
    "print(\"On training data, RF Classifier has a AUCROC Score of:\", AUC_ROC_Score * 100)\n",
    "\n",
    "AUC_ROC_Score = roc_auc_score(y_test, rf.predict_proba(X_test)[:, 1])\n",
    "print(\"On test data, RF Classifier has a AUCROC Score of:\", AUC_ROC_Score * 100)"
   ]
  },
  {
   "cell_type": "code",
   "execution_count": 32,
   "id": "d8d56e3f",
   "metadata": {
    "scrolled": true
   },
   "outputs": [
    {
     "name": "stdout",
     "output_type": "stream",
     "text": [
      "Accuracy of Random Forest Classifier:  0.9191919191919192\n",
      "F1 score of Random Forest Classifier:  0.9148936170212767\n"
     ]
    },
    {
     "data": {
      "image/png": "[encoded data removed]",
      "text/plain": [
       "<Figure size 432x288 with 2 Axes>"
      ]
     },
     "metadata": {
      "needs_background": "light"
     },
     "output_type": "display_data"
    },
    {
     "name": "stdout",
     "output_type": "stream",
     "text": [
      "Classification Report:\n",
      "              precision    recall  f1-score   support\n",
      "\n",
      "           0       0.89      0.96      0.92        50\n",
      "           1       0.96      0.88      0.91        49\n",
      "\n",
      "    accuracy                           0.92        99\n",
      "   macro avg       0.92      0.92      0.92        99\n",
      "weighted avg       0.92      0.92      0.92        99\n",
      "\n"
     ]
    }
   ],
   "source": [
    "# Displaying Confusion Matrix For Randon Forest Claasifier\n",
    "\n",
    "print('Accuracy of Random Forest Classifier: ', accuracy_score(y_test, rf_predict))\n",
    "print('F1 score of Random Forest Classifier: ', f1_score(y_test, rf_predict))\n",
    "plot_confusion_matrix(rf, X_test, y_test)\n",
    "plt.ylabel('True class')\n",
    "plt.xlabel('Predicted class')\n",
    "plt.title('Confusion Matrix for Random Forest Classifier')\n",
    "plt.show()\n",
    "\n",
    "print('Classification Report:')\n",
    "print(classification_report(y_test, rf_predict))"
   ]
  },
  {
   "cell_type": "code",
   "execution_count": 33,
   "id": "079cbac2",
   "metadata": {
    "scrolled": false
   },
   "outputs": [
    {
     "data": {
      "image/png": "[encoded data removed]",
      "text/plain": [
       "<Figure size 432x288 with 1 Axes>"
      ]
     },
     "metadata": {
      "needs_background": "light"
     },
     "output_type": "display_data"
    }
   ],
   "source": [
    "#calculate precision and recall\n",
    "precision, recall, thresholds = precision_recall_curve(y_test, rf_predict)\n",
    "\n",
    "#create precision recall curve\n",
    "fig, ax = plt.subplots()\n",
    "ax.plot(recall, precision, color='purple')\n",
    "\n",
    "#add axis labels to plot\n",
    "ax.set_title('Precision-Recall Curve')\n",
    "ax.set_ylabel('Precision')\n",
    "ax.set_xlabel('Recall')\n",
    "\n",
    "#display plot\n",
    "plt.show()"
   ]
  },
  {
   "cell_type": "markdown",
   "id": "af3a4278",
   "metadata": {},
   "source": [
    "## Decision Tree Classifier"
   ]
  },
  {
   "cell_type": "code",
   "execution_count": 34,
   "id": "4ac99c99",
   "metadata": {},
   "outputs": [],
   "source": [
    "# Decision Tree Classifier\n",
    "\n",
    "dt = DecisionTreeClassifier(max_depth = 4, criterion = 'entropy')\n",
    "dt.fit(X_train, y_train)\n",
    "dt_predict = dt.predict(X_test)"
   ]
  },
  {
   "cell_type": "code",
   "execution_count": 35,
   "id": "b4939751",
   "metadata": {},
   "outputs": [
    {
     "name": "stdout",
     "output_type": "stream",
     "text": [
      "On training data, RF Classifier has a AUCROC Score of: 98.65657845009858\n",
      "On test data, RF Classifier has a AUCROC Score of: 92.93877551020408\n"
     ]
    }
   ],
   "source": [
    "# AUC ROC scores on the training and test dataset\n",
    "AUC_ROC_Score = roc_auc_score(y_train, dt.predict_proba(X_train)[:, 1])\n",
    "print(\"On training data, RF Classifier has a AUCROC Score of:\", AUC_ROC_Score * 100)\n",
    "\n",
    "AUC_ROC_Score = roc_auc_score(y_test, dt.predict_proba(X_test)[:, 1])\n",
    "print(\"On test data, RF Classifier has a AUCROC Score of:\", AUC_ROC_Score * 100)"
   ]
  },
  {
   "cell_type": "code",
   "execution_count": 36,
   "id": "4dd1155c",
   "metadata": {},
   "outputs": [
    {
     "name": "stdout",
     "output_type": "stream",
     "text": [
      "Accuracy of Decision Tree Classifier:  0.898989898989899\n",
      "F1 score of Decision Tree Classifier:  0.8958333333333333\n"
     ]
    },
    {
     "data": {
      "image/png": "[encoded data removed]",
      "text/plain": [
       "<Figure size 432x288 with 2 Axes>"
      ]
     },
     "metadata": {
      "needs_background": "light"
     },
     "output_type": "display_data"
    },
    {
     "name": "stdout",
     "output_type": "stream",
     "text": [
      "Classification Report:\n",
      "              precision    recall  f1-score   support\n",
      "\n",
      "           0       0.88      0.92      0.90        50\n",
      "           1       0.91      0.88      0.90        49\n",
      "\n",
      "    accuracy                           0.90        99\n",
      "   macro avg       0.90      0.90      0.90        99\n",
      "weighted avg       0.90      0.90      0.90        99\n",
      "\n"
     ]
    }
   ],
   "source": [
    "# Displaying Confusion Matrix For Decision Tree Classifier\n",
    "\n",
    "print('Accuracy of Decision Tree Classifier: ', accuracy_score(y_test, dt_predict))\n",
    "print('F1 score of Decision Tree Classifier: ', f1_score(y_test, dt_predict))\n",
    "plot_confusion_matrix(dt, X_test, y_test)\n",
    "plt.ylabel('True class')\n",
    "plt.xlabel('Predicted class')\n",
    "plt.title('Confusion Matrix for Decision Tree Classifier')\n",
    "plt.show()\n",
    "\n",
    "print('Classification Report:')\n",
    "print(classification_report(y_test, dt_predict))"
   ]
  },
  {
   "cell_type": "code",
   "execution_count": 37,
   "id": "3c7c63e5",
   "metadata": {},
   "outputs": [
    {
     "data": {
      "image/png": "[encoded data removed]",
      "text/plain": [
       "<Figure size 432x288 with 1 Axes>"
      ]
     },
     "metadata": {
      "needs_background": "light"
     },
     "output_type": "display_data"
    }
   ],
   "source": [
    "#calculate precision and recall\n",
    "precision, recall, thresholds = precision_recall_curve(y_test, dt_predict)\n",
    "\n",
    "#create precision recall curve\n",
    "fig, ax = plt.subplots()\n",
    "ax.plot(recall, precision, color='purple')\n",
    "\n",
    "#add axis labels to plot\n",
    "ax.set_title('Precision-Recall Curve')\n",
    "ax.set_ylabel('Precision')\n",
    "ax.set_xlabel('Recall')\n",
    "\n",
    "#display plot\n",
    "plt.show()"
   ]
  },
  {
   "cell_type": "code",
   "execution_count": 38,
   "id": "887ec5f2",
   "metadata": {},
   "outputs": [
    {
     "data": {
      "text/plain": [
       "[Text(451.32352941176475, 489.24, 'X[13] <= -2.887\\nentropy = 1.0\\nsamples = 885\\nvalue = [442, 443]'),\n",
       " Text(164.11764705882354, 380.52000000000004, 'X[15] <= 2.897\\nentropy = 0.027\\nsamples = 371\\nvalue = [1, 370]'),\n",
       " Text(82.05882352941177, 271.8, 'entropy = 0.0\\nsamples = 370\\nvalue = [0, 370]'),\n",
       " Text(246.1764705882353, 271.8, 'entropy = 0.0\\nsamples = 1\\nvalue = [1, 0]'),\n",
       " Text(738.5294117647059, 380.52000000000004, 'X[3] <= 1.65\\nentropy = 0.59\\nsamples = 514\\nvalue = [441, 73]'),\n",
       " Text(410.29411764705884, 271.8, 'X[28] <= 2.182\\nentropy = 0.396\\nsamples = 447\\nvalue = [412, 35]'),\n",
       " Text(246.1764705882353, 163.08000000000004, 'X[13] <= -0.491\\nentropy = 0.29\\nsamples = 413\\nvalue = [392, 21]'),\n",
       " Text(164.11764705882354, 54.360000000000014, 'entropy = 0.639\\nsamples = 105\\nvalue = [88, 17]'),\n",
       " Text(328.2352941176471, 54.360000000000014, 'entropy = 0.1\\nsamples = 308\\nvalue = [304, 4]'),\n",
       " Text(574.4117647058824, 163.08000000000004, 'X[6] <= 0.687\\nentropy = 0.977\\nsamples = 34\\nvalue = [20, 14]'),\n",
       " Text(492.3529411764706, 54.360000000000014, 'entropy = 0.371\\nsamples = 14\\nvalue = [13, 1]'),\n",
       " Text(656.4705882352941, 54.360000000000014, 'entropy = 0.934\\nsamples = 20\\nvalue = [7, 13]'),\n",
       " Text(1066.764705882353, 271.8, 'X[13] <= -0.672\\nentropy = 0.987\\nsamples = 67\\nvalue = [29, 38]'),\n",
       " Text(902.6470588235295, 163.08000000000004, 'X[10] <= -0.551\\nentropy = 0.426\\nsamples = 23\\nvalue = [2, 21]'),\n",
       " Text(820.5882352941177, 54.360000000000014, 'entropy = 0.0\\nsamples = 2\\nvalue = [2, 0]'),\n",
       " Text(984.7058823529412, 54.360000000000014, 'entropy = 0.0\\nsamples = 21\\nvalue = [0, 21]'),\n",
       " Text(1230.8823529411766, 163.08000000000004, 'X[14] <= 0.393\\nentropy = 0.962\\nsamples = 44\\nvalue = [27, 17]'),\n",
       " Text(1148.8235294117649, 54.360000000000014, 'entropy = 0.997\\nsamples = 32\\nvalue = [15, 17]'),\n",
       " Text(1312.9411764705883, 54.360000000000014, 'entropy = 0.0\\nsamples = 12\\nvalue = [12, 0]')]"
      ]
     },
     "execution_count": 38,
     "metadata": {},
     "output_type": "execute_result"
    },
    {
     "data": {
      "image/png": "[encoded data removed]",
      "text/plain": [
       "<Figure size 1800x720 with 1 Axes>"
      ]
     },
     "metadata": {
      "needs_background": "light"
     },
     "output_type": "display_data"
    }
   ],
   "source": [
    "plt.figure(figsize=(25, 10))\n",
    "tree.plot_tree(dt, filled=True)"
   ]
  },
  {
   "cell_type": "code",
   "execution_count": 39,
   "id": "bc39f87e",
   "metadata": {},
   "outputs": [],
   "source": [
    "## Outcome"
   ]
  },
  {
   "cell_type": "code",
   "execution_count": 40,
   "id": "1a89dd69",
   "metadata": {},
   "outputs": [
    {
     "name": "stdout",
     "output_type": "stream",
     "text": [
      "LogisticRegression has an AUC-ROC Score and Macro-averaged F1-score of: 0.9791836734693877 and 0.9090537919771358\n",
      "RandomForest has an AUC-ROC Score and Macro-averaged F1-score of: 0.9677551020408164 and 0.9189852700490999\n",
      "DecisionTreeClassifier has an AUC-ROC Score and Macro-averaged F1-score of: 0.9293877551020407 and 0.8988970588235294\n"
     ]
    }
   ],
   "source": [
    "# models\n",
    "models = {\n",
    "    \"LogisticRegression\": lr,\n",
    "    \"RandomForest\": rf,\n",
    "    \"DecisionTreeClassifier\": dt,\n",
    "}\n",
    "\n",
    "# function to fetch scores\n",
    "def train_model():\n",
    "    for key, model in models.items():\n",
    "        model.fit(X_train, y_train)\n",
    "        AUC_ROC_Score = roc_auc_score(y_test, model.predict_proba(X_test)[:, 1])\n",
    "        f1_val = f1_score(y_test, model.predict(X_test), average='macro')\n",
    "        print(f\"{key} has an AUC-ROC Score and Macro-averaged F1-score of: {AUC_ROC_Score} and {f1_val}\")\n",
    "\n",
    "\n",
    "# function call\n",
    "train_model()"
   ]
  },
  {
   "cell_type": "markdown",
   "id": "7eea457a",
   "metadata": {},
   "source": [
    "## Selecting Best Model"
   ]
  },
  {
   "cell_type": "code",
   "execution_count": 41,
   "id": "ac202eab",
   "metadata": {},
   "outputs": [],
   "source": [
    "# Macro averaged F1 score of all models on the validation data set\n",
    "f1_lr = f1_score(y_test, Y_predicted_lr, average='macro')\n",
    "f1_rf = f1_score(y_test, rf_predict, average='macro')\n",
    "f1_dt = f1_score(y_test, dt_predict, average='macro')"
   ]
  },
  {
   "cell_type": "code",
   "execution_count": 42,
   "id": "4251afac",
   "metadata": {},
   "outputs": [],
   "source": [
    "# choosing the best classifier based on Macro-averaged F1 Score\n",
    "best_score = None\n",
    "best_model = None\n",
    "if f1_dt>f1_rf:\n",
    "    if f1_dt>f1_lr:\n",
    "        best_score = f1_dt\n",
    "        best_model = \"Decision Tree\"\n",
    "    else:\n",
    "        best_score = f1_lr\n",
    "        best_model = \"Logistic Regression\"\n",
    "else:\n",
    "    if f1_rf>f1_lr:\n",
    "        best_score = f1_rf\n",
    "        best_model = \"Random Forest\"\n",
    "    else:\n",
    "        best_score = f1_lr\n",
    "        best_model = \"Logistic Regression\""
   ]
  },
  {
   "cell_type": "code",
   "execution_count": 43,
   "id": "6b779b1d",
   "metadata": {},
   "outputs": [
    {
     "name": "stdout",
     "output_type": "stream",
     "text": [
      "0.9189852700490999\n",
      "Random Forest\n"
     ]
    }
   ],
   "source": [
    "print(best_score)\n",
    "print(best_model)"
   ]
  },
  {
   "cell_type": "code",
   "execution_count": null,
   "id": "7449f38a",
   "metadata": {},
   "outputs": [],
   "source": []
  },
  {
   "cell_type": "code",
   "execution_count": null,
   "id": "e5f73030",
   "metadata": {},
   "outputs": [],
   "source": []
  }
 ],
 "metadata": {
  "kernelspec": {
   "display_name": "Python 3 (ipykernel)",
   "language": "python",
   "name": "python3"
  },
  "language_info": {
   "codemirror_mode": {
    "name": "ipython",
    "version": 3
   },
   "file_extension": ".py",
   "mimetype": "text/x-python",
   "name": "python",
   "nbconvert_exporter": "python",
   "pygments_lexer": "ipython3",
   "version": "3.9.7"
  }
 },
 "nbformat": 4,
 "nbformat_minor": 5
}
